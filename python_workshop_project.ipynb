{
  "nbformat": 4,
  "nbformat_minor": 0,
  "metadata": {
    "colab": {
      "provenance": []
    },
    "kernelspec": {
      "name": "python3",
      "display_name": "Python 3"
    },
    "language_info": {
      "name": "python"
    }
  },
  "cells": [
    {
      "cell_type": "markdown",
      "source": [
        "#simple calculator"
      ],
      "metadata": {
        "id": "zHe3FfWum2oK"
      }
    },
    {
      "cell_type": "code",
      "source": [
        "def add(x,y):\n",
        "   return x+y\n",
        "def subtract (x,y):\n",
        "   return x-y\n",
        "def multiply(x,y):\n",
        "   return x*y\n",
        "def divison(x,y):\n",
        "   if y!=0:\n",
        "     return x/y\n",
        "   else:\n",
        "       return \"error! divison by zero\"\n",
        "def calculator():\n",
        "    print(\"simple calculator\")\n",
        "    print(\"choose operation:\")\n",
        "    print(\"1.Add\")\n",
        "    print(\"2.subtract\")\n",
        "    print(\"3.multiply\")\n",
        "    print(\"4.division\")\n",
        "    while True:\n",
        "      choice=input(\"Enter choice(1/2/3/4)\")\n",
        "      if choice in ['1','2','3','4']:\n",
        "        num1=float(input(\"Enter the first number\"))\n",
        "        num2=float(input(\"Enter the second number\"))\n",
        "        if choice=='1':\n",
        "          print(f\"The result is:{add(num1,num2)}\")\n",
        "        elif choice=='2':\n",
        "          print(f\"The result is:{subtract(num1,num2)}\")\n",
        "        elif choice=='3':\n",
        "          print(f\"The result is:{multiply(num1,num2)}\")\n",
        "        elif choice=='4':\n",
        "          print(f\"The result is:{divison(num1,num2)}\")\n",
        "        next_calculation=input(\"do you want to perform calculation? (yes/no)?\")\n",
        "        if next_calculation.lower()!='yes':\n",
        "          break\n",
        "    else:\n",
        "      print(\"invalid input\")\n",
        "calculator()"
      ],
      "metadata": {
        "id": "Tjllvz1vNmBi",
        "colab": {
          "base_uri": "https://localhost:8080/"
        },
        "outputId": "737735ea-e611-4178-f246-4e1cec02eb7f"
      },
      "execution_count": 7,
      "outputs": [
        {
          "name": "stdout",
          "output_type": "stream",
          "text": [
            "simple calculator\n",
            "choose operation:\n",
            "1.Add\n",
            "2.subtract\n",
            "3.multiply\n",
            "4.division\n",
            "Enter choice(1/2/3/4)2\n",
            "Enter the first number3\n",
            "Enter the second number5\n",
            "The result is:-2.0\n",
            "do you want to perform calculation? (yes/no)?yes\n",
            "Enter choice(1/2/3/4)4\n",
            "Enter the first number5\n",
            "Enter the second number0\n",
            "The result is:error! divison by zero\n",
            "do you want to perform calculation? (yes/no)?no\n"
          ]
        }
      ]
    },
    {
      "cell_type": "code",
      "source": [
        "\n"
      ],
      "metadata": {
        "id": "Xmj6MrdyWjpn"
      },
      "execution_count": null,
      "outputs": []
    },
    {
      "cell_type": "code",
      "source": [],
      "metadata": {
        "id": "vm9xqN9wUhn7"
      },
      "execution_count": null,
      "outputs": []
    }
  ]
}